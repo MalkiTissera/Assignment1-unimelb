{
 "cells": [
  {
   "cell_type": "markdown",
   "id": "96a20d44",
   "metadata": {},
   "source": [
    "v1.1 16 February 2023 (Edited  match_rooms_q_and_a() small change on docstring)\n",
    "## Important Notes: \n",
    "-You should write at least one additional helper function.\n",
    "-Do not alter the test code when submitting. You will be marked against the original test code when marking.\n",
    "-The function signatures must not be altered to pass the tests.\n",
    "-Tested on 3.11.1 and 3.9.14 (default in anacanda) switch to this version of Python if you experience unexpected results\n",
    "-This code below is provided for you. Please do not alter this. You should only change this code below for testing purposes (if you like).\n",
    "-The game by default reads the challenge questions from questions.csv, therefore do not delete this file. Ensure that questions.csv remains in the same folder this file template_application.ipynb."
   ]
  },
  {
   "cell_type": "code",
   "execution_count": 25,
   "id": "5434171f",
   "metadata": {},
   "outputs": [],
   "source": [
    "#Import sys module to use sys.exit() function inside  \n",
    "#the \"check_piece_name\" helper function 1, to validate the player name\n",
    "#exit from the game if the user enter a wrong piece name\n",
    "import random, copy, sys\n",
    "ORIG_BOARD = [[\"dining\",\"living\",\"garden\"],[\"lounge\",\"game\",\"gym\"],[\"spa\",\"bedroom\",\"office\"]]\n",
    "\n",
    "def generate_roomlist(board):\n",
    "    \"\"\"Given a board of rooms which is a nested list of strings, it converts this into a list of strings.\n",
    "    Therefore, this returns a list of rooms.\n",
    "    \"\"\"\n",
    "    room_list = []\n",
    "    for sublist in board:\n",
    "        for room in sublist:\n",
    "            room_list.append(room)\n",
    "    return room_list\n",
    "\n",
    "def is_correct(solution, player_ans):\n",
    "    \"\"\"Returns a boolean, true if the player's answer matches the correct solution, otherwise false\n",
    "    Note: This is case insensitive\"\"\"\n",
    "    return solution.lower() == player_ans.lower()\n",
    "\n",
    "def load_questions(filename):\n",
    "    \"\"\"Reads a file from parameter filename and appends each line as a string to a list. \n",
    "    Returns a list of strings.\"\"\"\n",
    "    questions = []\n",
    "    with open(filename) as file: \n",
    "        for line in file.readlines():\n",
    "            questions.append(line)\n",
    "    return questions\n",
    "\n",
    "def check_piece_name(piece): #Helper function 1\n",
    "    \"\"\"\n",
    "    Capitalize any lowercase piece name which is entered by the user and \n",
    "    check whether the user entered a valid piece name (\"X\",\"O\",\"P\") or not.\n",
    "    If it's a valid player name,allows to play by returning the piece which is\n",
    "    a string. If the player entered an invalid piece name,returns an error\n",
    "    message and exit from the game by calling sys.exit()\n",
    "    \"\"\"\n",
    "    #Capitalize the piece name and check whether the piece name is correct\n",
    "    if piece.upper() in \"XOP\":\n",
    "        return piece\n",
    "    #If the player piece is something other than X O P, prints an error message\n",
    "    print(f'\\nERROR:You entered {piece} as the piece\\n')\n",
    "    print('Please enter a valid player name (X, O, P) and re-play!')\n",
    "    #When sys.exit() is called, it raises the 'SystemExit' exception\n",
    "    #and exit from the game since the player piece name is invalid\n",
    "    return sys.exit()\n",
    "\n",
    "  \n",
    "def first_move(board, piece): #Helper function 2\n",
    "    \"\"\"\n",
    "    Moves the player piece to the very first room of the board list.\n",
    "    Returns a tuple which contains the name of the first room(a string),\n",
    "    and the list bord which contains the piece in the very first room\n",
    "    \"\"\"\n",
    "    #Make a deep copy of the ORIG_BOARD list,so that the\n",
    "    #global variable 'ORIG_BOARD' won't change after calling first_move function\n",
    "    board = copy.deepcopy(ORIG_BOARD)\n",
    "    #If the player piece is not there in the board list,\n",
    "    #we can consider it as the first move of the player piece\n",
    "    if piece not in board:\n",
    "        #if we cannot find the piece inside the board list,\n",
    "        #the very first room in the nested list will be the player's location\n",
    "        current_place = board[0][0]\n",
    "        #place the piece in the very first room in the nested list\n",
    "        board[0][0] = piece\n",
    "        #variable 'place' is the output tuple which contains\n",
    "        #the current location(room name - string) after the first move and\n",
    "        #the list board which contains piece in the first room after the first move\n",
    "        place = (current_place , board)\n",
    "        return place"
   ]
  },
  {
   "cell_type": "markdown",
   "id": "6a076558",
   "metadata": {},
   "source": [
    "## Task 1 (4 marks)\n",
    "Write a function called ``find_x(board, goal)`` which is utilised throughout the program to find \"x\" given a board. \n",
    "This function should take the following parameters:\n",
    "- ``board`` nested list of strings which represents the board of the game\n",
    "- ``goal`` string which represents \"x\" which is essentially the name of the room to be located in the ``board``. \n",
    "\n",
    "This function locates the given goal in the board and returns its location \n",
    "which is a tuple of the indices of where it is located in board.\n",
    "\n",
    "If a room is not found, it returns a tuple with two -1s: (-1,-1).\n",
    "\n",
    "\n",
    "Here are some examples you can use to call your function\n",
    "```python\n",
    "find_x([[\"dining\",\"living\",\"garden\"],[\"lounge\",\"game\",\"gym\"],[\"spa\",\"bedroom\",\"office\"]], \"lounge\")\n",
    ">>> (1,0)\n",
    "\n",
    "find_x([[\"dining\",\"living\"],[\"game\",\"gym\"],[\"bedroom\",\"office\"]], \"bedroom\")\n",
    ">>> (2,0)\n",
    "\n",
    "find_x([[\"dining\"],[\"game\"],[\"office\"]], \"dining\")\n",
    ">>> (0,0)\n",
    "```"
   ]
  },
  {
   "cell_type": "code",
   "execution_count": 26,
   "id": "7115ef6d",
   "metadata": {},
   "outputs": [],
   "source": [
    "def find_x(board, goal):\n",
    "    \"\"\"\n",
    "    Returns a tuple of indices of the location of goal on the board\n",
    "    where goal is a string which is contained in the nested list.\n",
    "    \"\"\"\n",
    "    #Iterating through the nested list board(main list)\n",
    "    for i in range(len(board)):\n",
    "        #Check whether the goal can be found in the nested list\n",
    "        if goal in (board[i]):\n",
    "            #Iterating through sub list which contains the goal\n",
    "            for j in range(len(board[i])):\n",
    "                #If the goal name matches with a room name in the sub list\n",
    "                if goal == (board[i][j]):\n",
    "                    #Store the position as a tuple(main list , sublist index)\n",
    "                    cordinate = (i , j) \n",
    "                    return cordinate\n",
    "    #If the goal couldn't find, store (-1 , -1) as a tuple\n",
    "    not_found = (-1 , -1) \n",
    "    return not_found"
   ]
  },
  {
   "cell_type": "code",
   "execution_count": 27,
   "id": "27f13cf7",
   "metadata": {},
   "outputs": [
    {
     "name": "stdout",
     "output_type": "stream",
     "text": [
      "### TASK 1 ###\n",
      "find_x(ORIG_BOARD, \"lounge\") == (1,0)\n",
      "Passed\n"
     ]
    }
   ],
   "source": [
    "#Testing on original board\n",
    "print(\"### TASK 1 ###\")\n",
    "print('find_x(ORIG_BOARD, \"lounge\") == (1,0)')\n",
    "if find_x(ORIG_BOARD, \"lounge\") == (1,0):\n",
    "    print(\"Passed\")\n",
    "else:\n",
    "    print(\"Failed\")"
   ]
  },
  {
   "cell_type": "code",
   "execution_count": 28,
   "id": "9bd37214",
   "metadata": {},
   "outputs": [
    {
     "name": "stdout",
     "output_type": "stream",
     "text": [
      "find_x(ORIG_BOARD, \"forest\") == (-1,-1)\n",
      "Passed\n"
     ]
    }
   ],
   "source": [
    "#testing for room not found in board\n",
    "print('find_x(ORIG_BOARD, \"forest\") == (-1,-1)')\n",
    "if find_x(ORIG_BOARD, \"forest\") == (-1,-1):\n",
    "    print(\"Passed\")\n",
    "else:\n",
    "    print(\"Failed\")"
   ]
  },
  {
   "cell_type": "markdown",
   "id": "893efc48",
   "metadata": {},
   "source": [
    "## Task 2 (5 marks)\n",
    "Write a function called ``move_right(board, piece)`` to move the player piece to the right by 1.\n",
    "This function should take the following parameters:\n",
    "- ``board`` nested list of strings which represents the board of the game\n",
    "- ``piece`` string which represents the player on the board\n",
    "\n",
    "After the move, it returns a tuple of the \n",
    "1) name of the room the player moved into and \n",
    "2) the board. \n",
    "Therefore it returns a tuple of a string and a nested list.\n",
    "For example, \n",
    "Player location: was in the bedroom, \n",
    "Player piece: \"X\"; \n",
    "So now the player is at the office\n",
    "Therefore, the following tuple will be returned. \n",
    "i.e.\n",
    " ```python\n",
    "(\"office\",[[\"dining\",\"living\",\"garden\"],[\"lounge\",\"game\",\"gym\"],[\"spa\",\"bedroom\",\"X\"]])\n",
    "```\n",
    "Note: this returns a tuple of None if the player goes out of bounds i.e. tries to move to a room that \n",
    "is beyond the nested list\n",
    "In that case, it should return \n",
    " ```python\n",
    "(None, None)\n",
    "```\n",
    "\n",
    "\n",
    "Here are some examples you can use to call your function\n",
    "```python\n",
    "move_right([[\"dining\",\"living\",\"garden\"],[\"lounge\",\"X\",\"gym\"],[\"spa\",\"bedroom\",\"office\"]], \"X\")\n",
    ">>> (\"gym\",[[\"dining\",\"living\",\"garden\"],[\"lounge\",\"game\",\"X\"],[\"spa\",\"bedroom\",\"office\"]])\n",
    "\n",
    "move_right([[\"dining\",\"living\",\"garden\"],[\"lounge\",\"game\",\"O\"],[\"spa\",\"bedroom\",\"office\"]], \"O\")\n",
    ">>> (\"spa\",[[\"dining\",\"living\",\"garden\"],[\"lounge\",\"game\",\"gym\"],[\"O\",\"bedroom\",\"office\"]])\n",
    "\n",
    "move_right([[\"dining\",\"living\",\"garden\"],[\"lounge\",\"game\",\"gym\"],[\"spa\",\"bedroom\",\"P\"]], \"P\")\n",
    ">>> (None,None)\n",
    "\n",
    "```"
   ]
  },
  {
   "cell_type": "code",
   "execution_count": 29,
   "id": "489e27ac",
   "metadata": {},
   "outputs": [],
   "source": [
    "def move_right(board, piece):\n",
    "    \"\"\"\n",
    "    Moves the player's piece to the right room by 1. Returns a tuple of the 1) name of the room the player \n",
    "    moved into and 2) the board. Therefore it returns a tuple of a string and a nested list\n",
    "    For example, Player: was in the bedroom, Player piece: \"X\"; so now the player is at the office\n",
    "    Therefore, the following tuple will be returned. \n",
    "    i.e. (\"office\",[[\"dining\",\"living\",\"garden\"],[\"lounge\",\"game\",\"gym\"],[\"spa\",\"bedroom\",\"X\"]])\n",
    "    Note: this returns a tuple of None if the player goes out of bounds i.e. tries to move to a room that \n",
    "    is beyond the nested list\n",
    "    In that case, it should return (None, None)\n",
    "    \"\"\"\n",
    "    #Calling the helper function 'check_piece_name' to check\n",
    "    #whether the player entered a correct piece name ('X' or 'O' or 'P')\n",
    "    piece = check_piece_name(piece)\n",
    "    #Convert the nested lists(board & ORIG_BOARD) into lists of strings\n",
    "    #by calling 'generate_roomlist' function, because it is easier to \n",
    "    #iterate through, check, and move the piece in a list\n",
    "    room_list = generate_roomlist(board)\n",
    "    ORIG_BOARD_NEW = generate_roomlist(ORIG_BOARD)\n",
    "    #Out of bound check: check whether the player piece\n",
    "    #is in the last room of the list\n",
    "    #Iterating through the list board\n",
    "    for i in range(len(room_list)):\n",
    "        #Looking for the piece inside the board list\n",
    "        if (room_list[i]) == piece:\n",
    "            #If the piece is at the very end of the list,\n",
    "            #the index of the piece should be the length of the list minus one\n",
    "            if i == (len(room_list) - 1):\n",
    "                #If the player is trying to move the piece beyond the\n",
    "                #nested list returns a (None , None) tuple\n",
    "                result = (None , None)\n",
    "                return result\n",
    "            else:\n",
    "                #If the player piece in a room other than the last room of the list\n",
    "                #variable 'result' stores the list index of the piece\n",
    "                result = room_list.index(room_list[i])\n",
    "                #All room names are available in the ORIG_BOARD_NEW list\n",
    "                #therefore we can replace the room name to the current piece name\n",
    "                room_list[result] = ORIG_BOARD_NEW[result]\n",
    "                #Variable 'result' is the current position(room index) of the piece\n",
    "                #therefore the next room index value is the current position + 1\n",
    "                current_place = room_list[result + 1]\n",
    "                #palce the piece name to the next room of the board\n",
    "                room_list[result + 1] = piece\n",
    "                \n",
    "                #Convert the list of strings to a 3X3 nested list\n",
    "                j = 0\n",
    "                new_list = []\n",
    "                while j < len(room_list):\n",
    "                    #Make a 3X3 nested list\n",
    "                    new_list.append(room_list[j:j + 3])\n",
    "                    j+=3\n",
    "                #Store the current room name string and the new nested list which contains \n",
    "                #the piece in the newly right-moved room as a tuple\n",
    "                place = (current_place , new_list)\n",
    "                return place\n",
    "    #Calling the Helper function 1 'first_move' if it's the first\n",
    "    #move of the piece. Place the piece in the very first room in \n",
    "    #the nested list that is in the index(0 , 0).\n",
    "    return first_move(board, piece)\n"
   ]
  },
  {
   "cell_type": "code",
   "execution_count": 30,
   "id": "6f8972d0",
   "metadata": {},
   "outputs": [
    {
     "name": "stdout",
     "output_type": "stream",
     "text": [
      "### TASK 2 ###\n",
      "move_right(ORIG_BOARD, \"X\")  first move\n",
      "Passed\n"
     ]
    }
   ],
   "source": [
    "print(\"### TASK 2 ###\")\n",
    "#first time player moves\n",
    "print('move_right(ORIG_BOARD, \"X\")  first move')\n",
    "if move_right(ORIG_BOARD, \"X\") == (\"dining\",[[\"X\",\"living\",\"garden\"],[\"lounge\",\"game\",\"gym\"],[\"spa\",\"bedroom\",\"office\"]]):\n",
    "    print(\"Passed\")\n",
    "else:\n",
    "    print(\"Failed\")"
   ]
  },
  {
   "cell_type": "code",
   "execution_count": 31,
   "id": "5a6cb395",
   "metadata": {},
   "outputs": [
    {
     "name": "stdout",
     "output_type": "stream",
     "text": [
      "move_right(board, \"X\") previously in garden moves right to lounge\n",
      "Passed\n"
     ]
    }
   ],
   "source": [
    "board = [[\"dining\",\"living\",\"X\"],[\"lounge\",\"game\",\"gym\"],[\"spa\",\"bedroom\",\"office\"]]\n",
    "print('move_right(board, \"X\") previously in garden moves right to lounge')\n",
    "if move_right(board, \"X\") == (\"lounge\",[[\"dining\",\"living\",\"garden\"],[\"X\",\"game\",\"gym\"],[\"spa\",\"bedroom\",\"office\"]]):\n",
    "    print(\"Passed\")\n",
    "else:\n",
    "    print(\"Failed\")"
   ]
  },
  {
   "cell_type": "code",
   "execution_count": 32,
   "id": "05066871",
   "metadata": {},
   "outputs": [
    {
     "name": "stdout",
     "output_type": "stream",
     "text": [
      "move_right(board, \"O\")  out of bounds test\n",
      "Passed\n"
     ]
    }
   ],
   "source": [
    "#out of bounds test\n",
    "board = [[\"dining\",\"living\",\"garden\"],[\"lounge\",\"game\",\"gym\"],[\"spa\",\"bedroom\",\"O\"]]\n",
    "print('move_right(board, \"O\")  out of bounds test')\n",
    "if move_right(board, \"O\") == (None, None):\n",
    "    print(\"Passed\")\n",
    "else:\n",
    "    print(\"Failed\")"
   ]
  },
  {
   "cell_type": "markdown",
   "id": "dd0c44f0",
   "metadata": {},
   "source": [
    "## Task 3 (5 marks)\n",
    "Write a function called move_down to move the player piece down by 1.\n",
    "Very similar to move right. Imagine the nested list to look like a square:\n",
    "For example,\n",
    "[[\"dining\",\"living\",\"X\"],\n",
    "[\"lounge\",\"game\",\"gym\"],\n",
    "[\"spa\",\"bedroom\",\"office\"]]\n",
    "The player X is currently at the garden, if the player moves down this will\n",
    "move the player to the gym.\n",
    "[[\"dining\",\"living\",\"garden\"],\n",
    "[\"lounge\",\"game\",\"X\"],\n",
    "[\"spa\",\"bedroom\",\"office\"]]\n",
    "\n",
    "More specifically, similar to move_right,this takes a board (nested list) and \n",
    "a piece (string) as parameters. After it moves the\n",
    "player on the board, it returns a tuple of the 1) name of the room the player \n",
    "moved into and 2) the board. Therefore it returns a tuple of a string and a nested list\n",
    "The example above where the player moved down from the garden,\n",
    "should return the following:\n",
    "i.e.\n",
    " ```python\n",
    "(\"gym\",[[\"dining\",\"living\",\"garden\"],[\"lounge\",\"game\",\"X\"],[\"spa\",\"bedroom\",\"office\"]])\n",
    "```\n",
    "Note: this also returns a tuple of None if the player goes out of bounds i.e. tries to move to a room that \n",
    "is beyond the nested list\n",
    "In that case, it should return \n",
    " ```python\n",
    "(None, None)\n",
    "```"
   ]
  },
  {
   "cell_type": "code",
   "execution_count": 33,
   "id": "f0044e25",
   "metadata": {},
   "outputs": [],
   "source": [
    "def move_down(board, piece):\n",
    "    \"\"\"\n",
    "    Very similar to move_right but this instead moves down. Imagine the nested list as a square.\n",
    "    Moves the player's piece down by 1. Returns a tuple of the 1) name of the room the player moved into \n",
    "    and 2) the board. Therefore it returns a tuple of a string and a nested list\n",
    "    For example, Player: was at the dining, Player piece: \"P\"; so now the player moved to the lounge\n",
    "    Therefore, the following tuple will be returned. \n",
    "    i.e. (\"lounge\",[[\"dining\",\"living\",\"garden\"],[\"P\",\"game\",\"gym\"],[\"spa\",\"bedroom\",\"office\"]])\n",
    "    Note: this returns a tuple of None if the player goes out of bounds i.e. tries to move to a room \n",
    "    that is beyond the nested list\n",
    "    In that case, it should return (None, None)\n",
    "    \"\"\"\n",
    "    #Calling the helper function 'check_piece_name' to check\n",
    "    #whether the player entered a correct piece name ('X' or 'O' or 'P')\n",
    "    piece = check_piece_name(piece)\n",
    "    #Out of bound check: check whether the player piece\n",
    "    #is in the last sublist of the nested list\n",
    "    #Iterating through the main list\n",
    "    for i in range(len(board)):\n",
    "        #Iterating through the sublists\n",
    "        for j in range(len(board[i])):\n",
    "            #Looking for the piece inside a sublist\n",
    "            if (board[i][j]) == piece:\n",
    "                #Last sublist index should be the length of the main list minus one\n",
    "                #Check whether the piece is in the last sublist of the main list\n",
    "                if i == (len(board) - 1):\n",
    "                    #If the piece is in the last sublist it cannot move down further,\n",
    "                    #therefore returns a tuple which contains (None , None)\n",
    "                    result = (None , None)\n",
    "                    return result\n",
    "                #If the player piece is in a room other than the last sublist\n",
    "                else:\n",
    "                    #All room names are available in the ORIG_BOARD list therefore\n",
    "                    #we can replace the room name with the current piece location\n",
    "                    (board[i][j]) = (ORIG_BOARD[i][j])\n",
    "                    #When moving down, piece goes to the next sublist,\n",
    "                    #next sub list index is current sublist index plus one\n",
    "                    #but the index inside the sublist will be the same\n",
    "                    (board[i + 1][j]) = piece\n",
    "                    #variable 'current_place' is the new room name where the piece is in \n",
    "                    current_place = (ORIG_BOARD[i + 1][j])\n",
    "                    #Store the new room name string and the list board which contains newly moved \n",
    "                    #down piece as a tuple\n",
    "                    place = (current_place,board)\n",
    "                    return place\n",
    "    #Calling the Helper function 1 'first_move' if it's the first\n",
    "    #move of the piece. Place the piece in the very first room in \n",
    "    #the nested list that is in the index(0 , 0).\n",
    "    return first_move(board, piece)"
   ]
  },
  {
   "cell_type": "code",
   "execution_count": 34,
   "id": "cd75defe",
   "metadata": {},
   "outputs": [
    {
     "name": "stdout",
     "output_type": "stream",
     "text": [
      "### TASK 3 ###\n",
      "move_down(ORIG_BOARD, \"X\")  first move\n",
      "Passed\n"
     ]
    }
   ],
   "source": [
    "#first time player moves player can either move right or down for their first move and will land on the first room.\n",
    "print(\"### TASK 3 ###\")\n",
    "print('move_down(ORIG_BOARD, \"X\")  first move')\n",
    "if move_down(ORIG_BOARD, \"X\") == (\"dining\",[[\"X\",\"living\",\"garden\"],[\"lounge\",\"game\",\"gym\"],[\"spa\",\"bedroom\",\"office\"]]):\n",
    "    print(\"Passed\")\n",
    "else:\n",
    "    print(\"Failed\")"
   ]
  },
  {
   "cell_type": "code",
   "execution_count": 35,
   "id": "eecf87e3",
   "metadata": {},
   "outputs": [
    {
     "name": "stdout",
     "output_type": "stream",
     "text": [
      "move_down(board, \"X\") previously in dining moves down to lounge\n",
      "Passed\n"
     ]
    }
   ],
   "source": [
    "board = [[\"X\",\"living\",\"garden\"],[\"lounge\",\"game\",\"gym\"],[\"spa\",\"bedroom\",\"office\"]]\n",
    "print('move_down(board, \"X\") previously in dining moves down to lounge')\n",
    "if move_down(board, \"X\") == (\"lounge\",[[\"dining\",\"living\",\"garden\"],[\"X\",\"game\",\"gym\"],[\"spa\",\"bedroom\",\"office\"]]):\n",
    "    print(\"Passed\")\n",
    "else:\n",
    "    print(\"Failed\")"
   ]
  },
  {
   "cell_type": "code",
   "execution_count": 36,
   "id": "f38e70e8",
   "metadata": {},
   "outputs": [
    {
     "name": "stdout",
     "output_type": "stream",
     "text": [
      "move_down(board, \"P\")  out of bounds test\n",
      "Passed\n"
     ]
    }
   ],
   "source": [
    "#out of bounds test\n",
    "board = [[\"dining\",\"living\",\"garden\"],[\"lounge\",\"game\",\"gym\"],[\"P\",\"bedroom\",\"office\"]]\n",
    "print('move_down(board, \"P\")  out of bounds test')\n",
    "if move_down(board, \"P\") == (None, None):\n",
    "    print(\"Passed\")\n",
    "else:\n",
    "    print(\"Failed\")"
   ]
  },
  {
   "cell_type": "markdown",
   "id": "5c1d5947",
   "metadata": {},
   "source": [
    "## Task 4 (3 marks)\n",
    "To ascertain whether the game is finished, we need a function to determine whether a particular player has won.  Write a function ``is_winner(board, goal_tuple, piece)``.  This function should take the following parameters:\n",
    "- ``board``: A list of lists representing the current state of the board\n",
    "- ``goal_room``: A tuple of ints which is randomly generated indices of the goal room to win the game\n",
    "- ``piece``: A string which represents the player's chosen piece.\n",
    "\n",
    "Your function should return a boolean ``True`` if the player won the game i.e. reached the ``goal_room`` and ``False`` otherwise.\n",
    "\n",
    "Here are some examples you can use to call your function:\n",
    "```python\n",
    "is_winner([[\"dining\",\"living\",\"garden\"],[\"lounge\",\"game\",\"gym\"],[\"spa\",\"O\",\"office\"]],(2,1), 'O')\n",
    ">>> True\n",
    "is_winner([[\"X\",\"living\",\"garden\"],[\"lounge\",\"game\",\"gym\"],[\"spa\",\"bedroom\",\"office\"]],(1,2), 'X')\n",
    ">>> False\n",
    "```"
   ]
  },
  {
   "cell_type": "code",
   "execution_count": 37,
   "id": "24e160b2",
   "metadata": {},
   "outputs": [],
   "source": [
    "def is_winner(board, goal_tuple, piece):\n",
    "    \"\"\"\n",
    "    Given the current state of the board, the tuple indices of the goal and the player piece, it\n",
    "    returns a boolean to check if the player reached the goal\n",
    "    \"\"\"\n",
    "    #Creat a tuple to store the indexes of the piece in the given board\n",
    "    goal_address = ()\n",
    "    #Iterating through the given nested list\n",
    "    for i in range(len(board)):\n",
    "        #Iterating through each sublist\n",
    "        for j in range(len(board[i])):\n",
    "            #Check whether the piece is equal to any element of the sublist\n",
    "            if piece == board[i][j]:\n",
    "                #If the piece can be found in a sublist, store the\n",
    "                #nested list index of the piece as a tuple\n",
    "                goal_address = (i , j)\n",
    "    #If the goal address equals the goal tuple returns True, otherwise False       \n",
    "    return goal_address == goal_tuple\n"
   ]
  },
  {
   "cell_type": "code",
   "execution_count": 38,
   "id": "898a5968",
   "metadata": {},
   "outputs": [
    {
     "name": "stdout",
     "output_type": "stream",
     "text": [
      "### TASK 4 ###\n",
      "is_winner() Test 1\n",
      "Passed\n"
     ]
    }
   ],
   "source": [
    "# Provided Test Case 1\n",
    "print(\"### TASK 4 ###\")\n",
    "print(\"is_winner() Test 1\")\n",
    "result = is_winner([[\"dining\",\"living\",\"garden\"],[\"lounge\",\"game\",\"gym\"],[\"spa\",\"O\",\"office\"]],(2,1), 'O')\n",
    "if (result == True):\n",
    "    print(\"Passed\")\n",
    "else:\n",
    "    print(\"Failed\")"
   ]
  },
  {
   "cell_type": "code",
   "execution_count": 39,
   "id": "2d36b9b5",
   "metadata": {},
   "outputs": [
    {
     "name": "stdout",
     "output_type": "stream",
     "text": [
      "is_winner() Test 2\n",
      "Passed\n"
     ]
    }
   ],
   "source": [
    "# Provided Test Case 2\n",
    "print(\"is_winner() Test 2\")\n",
    "result = is_winner([[\"X\",\"living\",\"garden\"],[\"lounge\",\"game\",\"gym\"],[\"spa\",\"bedroom\",\"office\"]],(1,1), 'X')\n",
    "if (result == False):\n",
    "    print(\"Passed\")\n",
    "else:\n",
    "    print(\"Failed\")"
   ]
  },
  {
   "cell_type": "markdown",
   "id": "50b69a81",
   "metadata": {},
   "source": [
    "## Task 5 (4 marks)\n",
    "\n",
    "This is an educational game therefore, each room visited should have a corresponding challenge. Write a function ``match_rooms_q_and_a(room_list, questions)`` to assign the questions and answers to each room. Such that, each question and answer is assigned in consecutive order to each room. \n",
    "\n",
    "It's possible that there could be more questions than the room list, but we can only assign questions based on the rooms available, other questions are ignored. \n",
    "\n",
    "This function should take the following parameters:\n",
    "- ``room_list``: A list of strings i.e. list of rooms\n",
    "For example: ``[\"room1\",\"room2\"]``\n",
    "- ``questions``: A list of strings i.e. list of questions and answers as strings\n",
    "For example: ``[\"question1,answer1\",\"question2,answer2\"]``\n",
    "\n",
    "Your function should return a list of tuples where the name of the room is matched with the question and answer string:\n",
    "For example for the parameters given above, the return value should be:\n",
    "``[(\"room1\",\"question1,answer1\"), (\"room2\", \"question2,answer2\")]``\n",
    "\n",
    "However, an empty list is returned if there are not enough questions to match the rooms.\n",
    "\n",
    "Here are some examples you can use to call your function:\n",
    "```python\n",
    "match_rooms_q_and_a([\"room1\",\"room2\"], [\"question1,answer1\",\"question2,answer2\"])\n",
    ">>> [(\"room1\",\"question1,answer1\"), (\"room2\", \"question2,answer2\")]\n",
    "match_rooms_q_and_a([\"dining\",\"living\",\"garden\"],[\"q1,a1\",\"q2,a2\",\"q3,a3\",\"q4,a4\",\"q5,a5\"])\n",
    ">>> [(\"dining\",\"q1,a1\"), (\"living\", \"q2,a2\"),(\"garden\", \"q3,a3\")]\n",
    "match_rooms_q_and_a([\"dining\",\"living\",\"garden\"],[\"q1,a1\",\"q2,a2\"])\n",
    ">>> []\n",
    "```"
   ]
  },
  {
   "cell_type": "code",
   "execution_count": 40,
   "id": "9a1aa989",
   "metadata": {},
   "outputs": [],
   "source": [
    "def match_rooms_q_and_a(room_list, questions):\n",
    "    \"\"\"\n",
    "    Returns a list of tuples where name of room is paired with the question and answer \n",
    "    i.e. [(\"office\",\"question here,answer here\")]\n",
    "    It's possible that there could be more questions than the room list, but we can only\n",
    "    assign questions based on the rooms available, other questions are ignored.\n",
    "    If there are not enough questions to match the rooms an empty list is returned.\n",
    "    \"\"\"\n",
    "    #Make a list of tuples that contains the room name string and question and\n",
    "    #answer pairs only if the number of question and answer pairs are greater than or\n",
    "    #equal to the number of rooms. Otherwise, the returning list will be an empty list\n",
    "    result_list = [(room_list[i],questions[i]) for i in \\\n",
    "                   range(len(room_list)) if len(questions) >= len(room_list)]\n",
    "    return result_list"
   ]
  },
  {
   "cell_type": "code",
   "execution_count": 41,
   "id": "9ecf6276",
   "metadata": {},
   "outputs": [
    {
     "name": "stdout",
     "output_type": "stream",
     "text": [
      "### TASK 5 ###\n",
      "match_rooms_q_and_a() Test 1\n",
      "Passed\n"
     ]
    }
   ],
   "source": [
    "print(\"### TASK 5 ###\")\n",
    "# Provided Test Case 1\n",
    "print(\"match_rooms_q_and_a() Test 1\")\n",
    "result = match_rooms_q_and_a([\"dining\",\"living\",\"garden\"],[\"q1,a1\",\"q2,a2\",\"q3,a3\",\"q4,a4\",\"q5,a5\"])\n",
    "\n",
    "if (result == [(\"dining\",\"q1,a1\"), (\"living\", \"q2,a2\"),(\"garden\", \"q3,a3\")]):\n",
    "    print(\"Passed\")\n",
    "else:\n",
    "    print(\"Failed\")"
   ]
  },
  {
   "cell_type": "code",
   "execution_count": 42,
   "id": "c3a3ed67",
   "metadata": {},
   "outputs": [
    {
     "name": "stdout",
     "output_type": "stream",
     "text": [
      "match_rooms_q_and_a() Test 2\n",
      "Passed\n"
     ]
    }
   ],
   "source": [
    "# Provided Test Case 2\n",
    "print(\"match_rooms_q_and_a() Test 2\")\n",
    "result = match_rooms_q_and_a([\"game\",\"living\",\"dining\"],[\"q1,a1\",\"q2,a2\",\"q3,a3\"])\n",
    "\n",
    "if (result == [(\"game\",\"q1,a1\"), (\"living\", \"q2,a2\"),(\"dining\", \"q3,a3\")]):\n",
    "    print(\"Passed\")\n",
    "else:\n",
    "    print(\"Failed\")"
   ]
  },
  {
   "cell_type": "markdown",
   "id": "ad779c36",
   "metadata": {},
   "source": [
    "## Task 6 (4 marks)\n",
    "\n",
    "The last task is to complete the game. Write a function ``find_challenge(room_list, questions, room)`` to find the corresponding question and answer for the room that the player is in. This utilises the function ``match_rooms_q_and_a(room_list, questions)`` which you have written earlier.\n",
    "\n",
    "This function should take the following parameters:\n",
    "- ``room_list``: A list of strings i.e. list of rooms\n",
    "For example: ``[\"room1\",\"room2\"]``\n",
    "- ``questions``: A list of strings i.e. list of questions and answers as strings\n",
    "For example: ``[\"question1,answer1\",\"question2,answer2\"]``\n",
    "- ``room``: A string which indicates the name of the room where the player is located.\n",
    "For example: ``room2``\n",
    "\n",
    "Your function should return a tuple of strings with the question and answer assigned to that particular room.\n",
    "For example, for the values given above, the return value should be:\n",
    "``(\"question2\",\"answer2\")``\n",
    "\n",
    "An empty tuple () is returned when the given ``room`` is not found in the ``room_list``.\n",
    "\n",
    "Here are some examples you can use to call your function:\n",
    "```python\n",
    "find_challenge([\"room1\",\"room2\"], [\"question1,answer1\",\"question2,answer2\"],\"room1\")\n",
    ">>> (\"question1\",\"answer1\")\n",
    "match_rooms_q_and_a([\"dining\",\"living\",\"garden\"],[\"q1,a1\",\"q2,a2\",\"q3,a3\",\"q4,a4\",\"q5,a5\"],\"garden\")\n",
    ">>> (\"q3\",\"a3\")\n",
    "```"
   ]
  },
  {
   "cell_type": "code",
   "execution_count": 43,
   "id": "25fba600",
   "metadata": {},
   "outputs": [],
   "source": [
    "def find_challenge(room_list, questions, room):\n",
    "    \"\"\"\n",
    "    Finds the correct question and answer string from the list of tuples from returned by \n",
    "    match_rooms_q_and_a(room_list, questions)\n",
    "    Then returns a tuple of question and answer (stripped of white spaces and new line characters), \n",
    "    Returns an empty tuple if room cannot be found.\n",
    "    \"\"\"\n",
    "    #Calling the function 'match_rooms_q_and_a' to make a list of tuples(room name , question and answer pair).\n",
    "    room_qa_list = match_rooms_q_and_a(room_list, questions)\n",
    "    #Iterating through the list of tuples\n",
    "    for i in range(len(room_qa_list)):\n",
    "        #Iterating inside each tuple\n",
    "        for j in range(len(room_qa_list[i])):\n",
    "            #The first element of each tuple is the room name. Check whether\n",
    "            #it is equal to the room name given by the function argument\n",
    "            if room_qa_list[i][j] == room:\n",
    "                #The related question and answer is the tuple element next to the room name\n",
    "                #that is, room name index plus one position\n",
    "                #Seperate the question and answer as two elements of a new tuple\n",
    "                q_and_a = tuple((room_qa_list[i][j + 1]).split(\",\"))\n",
    "                #Remove front and rear white spaces and newline characters of the question and answer\n",
    "                stripped_tuple = tuple(elem.strip() for elem in q_and_a)\n",
    "                return stripped_tuple\n",
    "    #If the room cannot be found in the list of tuples(room name , question and answer pair)\n",
    "    #returns an empty tuple\n",
    "    return ()"
   ]
  },
  {
   "cell_type": "code",
   "execution_count": 44,
   "id": "51cbe007",
   "metadata": {},
   "outputs": [
    {
     "name": "stdout",
     "output_type": "stream",
     "text": [
      "### TASK 6 ###\n",
      "find_challenge() Test 1\n",
      "Passed\n"
     ]
    }
   ],
   "source": [
    "print(\"### TASK 6 ###\")\n",
    "# Provided Test Case 1\n",
    "print(\"find_challenge() Test 1\")\n",
    "result = find_challenge([\"dining\",\"living\",\"garden\"],[\"q1,a1\",\"q2,a2\",\"q3,a3\",\"q4,a4\",\"q5,a5\"],\"living\")\n",
    "\n",
    "if (result == (\"q2\",\"a2\")):\n",
    "    print(\"Passed\")\n",
    "else:\n",
    "    print(\"Failed\")"
   ]
  },
  {
   "cell_type": "code",
   "execution_count": 45,
   "id": "a66b4150",
   "metadata": {},
   "outputs": [
    {
     "name": "stdout",
     "output_type": "stream",
     "text": [
      "find_challenge() Test 2\n",
      "Passed\n"
     ]
    }
   ],
   "source": [
    "# Provided Test Case 2\n",
    "print(\"find_challenge() Test 2\")\n",
    "result = find_challenge([\"carnival\",\"dancing\",\"karaoke\"],[\"q1,a1\",\"q2,a2\",\"q3,a3\"],\"dancing\")\n",
    "\n",
    "if (result == (\"q2\",\"a2\")):\n",
    "    print(\"Passed\")\n",
    "else:\n",
    "    print(\"Failed\")"
   ]
  },
  {
   "cell_type": "markdown",
   "id": "b8177a5f",
   "metadata": {},
   "source": [
    "# Code for playing game\n",
    "This code below is provided for you, you do not need to change this unless you want to do so but only for testing purposes."
   ]
  },
  {
   "cell_type": "code",
   "execution_count": 46,
   "id": "dd08819b",
   "metadata": {},
   "outputs": [],
   "source": [
    "def nice_print(board) :\n",
    "    \"\"\"\n",
    "    Formats the board for nicer display\n",
    "    \"\"\"\n",
    "    for line in board:\n",
    "        for room in line:\n",
    "            print(f'[{room:^15}]',end='')\n",
    "        print()\n",
    "    print()\n",
    "\n",
    "def play_game(piece, room_list, questions, curr_board, move):\n",
    "    if move == \"R\":\n",
    "        curr_room, curr_board = move_right(curr_board, piece)\n",
    "    elif move == \"D\":\n",
    "        curr_room, curr_board = move_down(curr_board, piece)\n",
    "\n",
    "    if curr_room is None and curr_board is None:\n",
    "        print(\"Game over. You did not find the goal.\")\n",
    "        curr_board = None\n",
    "    #otherwise find the challenge\n",
    "    else:\n",
    "        #print new location\n",
    "        print(\"Location is \" + curr_room)\n",
    "        #print new board\n",
    "        nice_print(curr_board)\n",
    "        question, solution = find_challenge(room_list, questions, curr_room)\n",
    "        print(\"Here is your challenge!\")\n",
    "        player_ans = input(question +\"\\n\")\n",
    "        if is_correct(solution, player_ans):\n",
    "            print(\"Well done!\")\n",
    "        else:\n",
    "            curr_board = None\n",
    "            print(\"Game over. Your answer was incorrect.\")\n",
    "    return curr_board\n",
    "\n",
    "\n",
    "def start_application():\n",
    "    #start game player chooses letter to represent their piece\n",
    "    print(\"Welcome to the game!\")\n",
    "    piece = input(\"What piece would you like? X, O, or P? \").strip().upper()\n",
    "    #default play is \"S\" to immediately start the game and trigger while play != \"X\"\n",
    "    play = \"S\"\n",
    "\n",
    "    #load questions\n",
    "    questions = load_questions(\"questions.csv\")\n",
    "    #generate goal\n",
    "    room_list = generate_roomlist(ORIG_BOARD)\n",
    "    goal = random.choices(room_list)[0]\n",
    "\n",
    "    #extra code to implement mode\n",
    "    difficulty = input(\"What difficulty would you like? [N]ormal or [H]ard?\").strip().upper()\n",
    "    if difficulty == \"N\":\n",
    "        print(\"You have chosen NORMAL.\")\n",
    "        print(\"Your goal is to go to \" + goal)\n",
    "    elif difficulty == \"H\":\n",
    "        print(\"You have chosen HARD. Goal is unknown.\")\n",
    "    else:\n",
    "        print(\"Invalid choice, loading NORMAL difficulty.\")\n",
    "        print(\"Your goal is to go to \" + goal)\n",
    "\n",
    "    goal_tuple = find_x(ORIG_BOARD, goal)\n",
    "\n",
    "    curr_board = copy.deepcopy(ORIG_BOARD)\n",
    "    nice_print(curr_board)\n",
    "    while play != \"X\":\n",
    "        #check if already won before asking player to move\n",
    "        if is_winner(curr_board, goal_tuple, piece):\n",
    "            print(\"You have reached the goal and conquered the challenges. Congratulations!\")\n",
    "            break\n",
    "        move = input(\"Type R to move right, D to move down to find the goal \").upper().strip()\n",
    "\n",
    "        #input validation\n",
    "        while move != \"R\" and move != \"D\":\n",
    "            move = input(\"Wrong input. Please Type R to move right, \\\n",
    "                         D to move down to find the goal \").upper().strip()\n",
    " \n",
    "        curr_board = play_game(piece, room_list, questions, curr_board, move) \n",
    "        if curr_board is None:\n",
    "            break\n",
    "        play = input(\"Type any character to continue, X to quit \").upper().strip()\n",
    "    if play == \"X\":\n",
    "        print(\"You have chosen to quit the game.\")"
   ]
  },
  {
   "cell_type": "code",
   "execution_count": 47,
   "id": "b812ed1e",
   "metadata": {},
   "outputs": [
    {
     "name": "stdout",
     "output_type": "stream",
     "text": [
      "Welcome to the game!\n",
      "What piece would you like? X, O, or P? x\n",
      "What difficulty would you like? [N]ormal or [H]ard?n\n",
      "You have chosen NORMAL.\n",
      "Your goal is to go to bedroom\n",
      "[    dining     ][    living     ][    garden     ]\n",
      "[    lounge     ][     game      ][      gym      ]\n",
      "[      spa      ][    bedroom    ][    office     ]\n",
      "\n",
      "Type R to move right, D to move down to find the goal r\n",
      "Location is dining\n",
      "[       X       ][    living     ][    garden     ]\n",
      "[    lounge     ][     game      ][      gym      ]\n",
      "[      spa      ][    bedroom    ][    office     ]\n",
      "\n",
      "Here is your challenge!\n",
      "What data type should be used to store number of chairs?\n",
      "int\n",
      "Well done!\n",
      "Type any character to continue, X to quit s\n",
      "Type R to move right, D to move down to find the goal r\n",
      "Location is living\n",
      "[    dining     ][       X       ][    garden     ]\n",
      "[    lounge     ][     game      ][      gym      ]\n",
      "[      spa      ][    bedroom    ][    office     ]\n",
      "\n",
      "Here is your challenge!\n",
      "What data type should be used to store the colour of the couch?\n",
      "String\n",
      "Well done!\n",
      "Type any character to continue, X to quit s\n",
      "Type R to move right, D to move down to find the goal d\n",
      "Location is game\n",
      "[    dining     ][    living     ][    garden     ]\n",
      "[    lounge     ][       X       ][      gym      ]\n",
      "[      spa      ][    bedroom    ][    office     ]\n",
      "\n",
      "Here is your challenge!\n",
      "true or false? It is possible to check the type of a variable in Python.\n",
      "true\n",
      "Well done!\n",
      "Type any character to continue, X to quit s\n",
      "Type R to move right, D to move down to find the goal d\n",
      "Location is bedroom\n",
      "[    dining     ][    living     ][    garden     ]\n",
      "[    lounge     ][     game      ][      gym      ]\n",
      "[      spa      ][       X       ][    office     ]\n",
      "\n",
      "Here is your challenge!\n",
      "true or false? == equality is interchangable with =\n",
      "false\n",
      "Well done!\n",
      "Type any character to continue, X to quit s\n",
      "You have reached the goal and conquered the challenges. Congratulations!\n"
     ]
    }
   ],
   "source": [
    "# Call start_application to test the entire game. Very useful for testing.\n",
    "start_application()"
   ]
  },
  {
   "cell_type": "code",
   "execution_count": null,
   "id": "8f1d869d",
   "metadata": {},
   "outputs": [],
   "source": []
  }
 ],
 "metadata": {
  "kernelspec": {
   "display_name": "Python 3 (ipykernel)",
   "language": "python",
   "name": "python3"
  },
  "language_info": {
   "codemirror_mode": {
    "name": "ipython",
    "version": 3
   },
   "file_extension": ".py",
   "mimetype": "text/x-python",
   "name": "python",
   "nbconvert_exporter": "python",
   "pygments_lexer": "ipython3",
   "version": "3.9.13"
  },
  "vscode": {
   "interpreter": {
    "hash": "0324797e30633161aefb349c79bc8f3773ca1a44cadd179392abbe54886dd05f"
   }
  }
 },
 "nbformat": 4,
 "nbformat_minor": 5
}
